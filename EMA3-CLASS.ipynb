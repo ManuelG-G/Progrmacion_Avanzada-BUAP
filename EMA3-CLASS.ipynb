{
 "cells": [
  {
   "cell_type": "code",
   "execution_count": 2,
   "metadata": {},
   "outputs": [],
   "source": [
    "class Humano:\n",
    "    def __init__(self,nombre,edad, genero):\n",
    "        self.nombre=nombre\n",
    "        self.edad=edad\n",
    "        self.genero=genero\n",
    "\n",
    "    def caract(self):\n",
    "        print(f\"Hola mi nombre es {self.nombre} tengo {self.edad} y soy {self.genero}\")\n",
    "    \n",
    "    def saludo (self):\n",
    "        print(f\"Hola soy humano\")"
   ]
  },
  {
   "cell_type": "code",
   "execution_count": 3,
   "metadata": {},
   "outputs": [
    {
     "name": "stdout",
     "output_type": "stream",
     "text": [
      "Hola mi nombre es Angel tengo 18 y soy Hombre\n",
      "Hola soy humano\n"
     ]
    }
   ],
   "source": [
    "Angel=Humano(\"Angel\",18,\"Hombre\")\n",
    "Angel.caract()\n",
    "Angel.saludo()"
   ]
  },
  {
   "cell_type": "markdown",
   "metadata": {},
   "source": [
    "# Clase hija\n",
    "En esta se agarra las caracteristicas del padre y agrega nuevas funciones, con definir en la clase, entre parentesis despues del nombre la clase padre"
   ]
  },
  {
   "cell_type": "markdown",
   "metadata": {},
   "source": [
    "Agregar un nuevo atributo ademas de los definidos en la clase Humano"
   ]
  },
  {
   "cell_type": "code",
   "execution_count": 1,
   "metadata": {},
   "outputs": [
    {
     "ename": "NameError",
     "evalue": "name 'Humano' is not defined",
     "output_type": "error",
     "traceback": [
      "\u001b[1;31m---------------------------------------------------------------------------\u001b[0m",
      "\u001b[1;31mNameError\u001b[0m                                 Traceback (most recent call last)",
      "Cell \u001b[1;32mIn[1], line 1\u001b[0m\n\u001b[1;32m----> 1\u001b[0m \u001b[38;5;28;01mclass\u001b[39;00m\u001b[38;5;250m \u001b[39m\u001b[38;5;21;01mprogra\u001b[39;00m (\u001b[43mHumano\u001b[49m): \u001b[38;5;66;03m#Eredar lo que hace otra clase \u001b[39;00m\n\u001b[0;32m      2\u001b[0m     \u001b[38;5;28;01mdef\u001b[39;00m\u001b[38;5;250m \u001b[39m\u001b[38;5;21m__init__\u001b[39m(\u001b[38;5;28mself\u001b[39m, nombre, edad, genero,lenguaje,color):\n\u001b[0;32m      3\u001b[0m         \u001b[38;5;28msuper\u001b[39m()\u001b[38;5;241m.\u001b[39m\u001b[38;5;21m__init__\u001b[39m(nombre,edad,genero) \u001b[38;5;66;03m#Toma los atributos ya existentes y te da lo que ya tenia\u001b[39;00m\n",
      "\u001b[1;31mNameError\u001b[0m: name 'Humano' is not defined"
     ]
    }
   ],
   "source": [
    "class progra (Humano): #Eredar lo que hace otra clase \n",
    "    def __init__(self, nombre, edad, genero,lenguaje,color):\n",
    "        super().__init__(nombre,edad,genero) #Toma los atributos ya existentes y te da lo que ya tenia\n",
    "        self.lenguaje=lenguaje\n",
    "        self.color=color\n",
    "    def action(self):\n",
    "        print(f\"Yo puedo programar en {self.lenguaje}\")\n",
    "    \n",
    "    def saludo(self):\n",
    "        print(f\"Hola Mundo estoy programando en python \")\n",
    "        #Alteramos la parte de saludo en la clase de programacion pero en Humano sigue igual.\n",
    "\n",
    "    def como(self):\n",
    "        super().caract() # Te da todo lo que hace otra funcion \n",
    "    \n",
    "    def Favorito(self):\n",
    "        print(f\"Mi color favorito es {self.color}\")\n",
    "        return f\"Mi color favorito es {self.color}\" #Lo pone en comillas, es casi igual que el Print"
   ]
  },
  {
   "cell_type": "markdown",
   "metadata": {},
   "source": [
    "La clase Progra hereda los atributos de la clase Humano y agregra el metodo accion, y el saludo lo modifica "
   ]
  },
  {
   "cell_type": "code",
   "execution_count": 17,
   "metadata": {},
   "outputs": [
    {
     "name": "stdout",
     "output_type": "stream",
     "text": [
      "Hola mi nombre es Fatima tengo 18 y soy Mujer\n",
      "Hola Mundo estoy programando en python \n",
      "Yo puedo programar en C++\n",
      "Hola mi nombre es Fatima tengo 18 y soy Mujer\n",
      "Mi color favorito es Azul\n"
     ]
    },
    {
     "data": {
      "text/plain": [
       "'Mi color favorito es Azul'"
      ]
     },
     "execution_count": 17,
     "metadata": {},
     "output_type": "execute_result"
    }
   ],
   "source": [
    "fati=progra (\"Fatima\",18,\"Mujer\",\"C++\",\"Azul\")\n",
    "fati.caract()\n",
    "fati.saludo()\n",
    "fati.action()\n",
    "fati.como()\n",
    "fati.Favorito()"
   ]
  },
  {
   "cell_type": "markdown",
   "metadata": {},
   "source": [
    "#clase 21/01/25 martes\n"
   ]
  },
  {
   "cell_type": "code",
   "execution_count": 69,
   "metadata": {},
   "outputs": [],
   "source": [
    "class Animal:\n",
    "    def __init__(self,Nombre,Color,Patas):\n",
    "        self.Nombre=Nombre\n",
    "        self.Color=Color\n",
    "        self.Patas=Patas \n",
    "    def Descripcion (self):\n",
    "        return f\"Soy un {self.Nombre}, tengo color {self.Color} y tengo {self.Patas} Patas\"\n",
    "        "
   ]
  },
  {
   "cell_type": "code",
   "execution_count": 70,
   "metadata": {},
   "outputs": [
    {
     "data": {
      "text/plain": [
       "'Soy un Chihuahua, tengo color Marron y tengo 4 Patas'"
      ]
     },
     "execution_count": 70,
     "metadata": {},
     "output_type": "execute_result"
    }
   ],
   "source": [
    "Perro1=Animal(\"Chihuahua\",\"Marron\",4)\n",
    "Perro1.Descripcion()"
   ]
  },
  {
   "cell_type": "code",
   "execution_count": 48,
   "metadata": {},
   "outputs": [],
   "source": [
    "class Peces(Animal):\n",
    "    def __init__(self,Nombre,Color,Patas,tamaño):\n",
    "        super().__init__(Nombre,Color,Patas) #Toma los atributos ya existentes y te da lo que ya tenia\n",
    "        self.tamaño=tamaño\n",
    "    \n",
    "    def Medida(self):\n",
    "        print(super().Descripcion()+f\" y mido {self.tamaño} cm\")\n",
    "        \n",
    "        \n",
    "        "
   ]
  },
  {
   "cell_type": "code",
   "execution_count": 49,
   "metadata": {},
   "outputs": [
    {
     "name": "stdout",
     "output_type": "stream",
     "text": [
      "Soy un Mojarra, tengo color Gris\n",
      "Soy un Mojarra, tengo color Gris y mido 15 cm\n"
     ]
    }
   ],
   "source": [
    "Pez1=Peces(\"Mojarra\",\"Gris\",0,15)\n",
    "print(Pez1.Descripcion())\n",
    "Pez1.Medida()\n"
   ]
  },
  {
   "cell_type": "code",
   "execution_count": 58,
   "metadata": {},
   "outputs": [],
   "source": [
    "class Aves(Animal):\n",
    "    def __init__(self, Nombre, Color, Patas,Pico):\n",
    "        super().__init__(Nombre, Color, Patas)\n",
    "        self.Pico=Pico\n",
    "    \n",
    "    def pico(self):\n",
    "        print(super().Descripcion()+f\" y mi pico mide {self.Pico} cm\")"
   ]
  },
  {
   "cell_type": "code",
   "execution_count": 65,
   "metadata": {},
   "outputs": [
    {
     "name": "stdout",
     "output_type": "stream",
     "text": [
      "Soy un Perico, tengo color Azul y mi pico mide 15 cm\n"
     ]
    }
   ],
   "source": [
    "Aves1=Aves(\"Perico\",\"Azul\",2,15)\n",
    "Aves1.pico()"
   ]
  },
  {
   "cell_type": "code",
   "execution_count": 62,
   "metadata": {},
   "outputs": [],
   "source": [
    "class Reptiles(Animal):\n",
    "    def __init__(self, Nombre, Color, Patas,Vive):\n",
    "        super().__init__(Nombre, Color, Patas)\n",
    "        self.Vive=Vive\n",
    "    \n",
    "    def Lugar(self):\n",
    "        print(super().Descripcion()+f\" y vivo en {self.Vive}\")"
   ]
  },
  {
   "cell_type": "code",
   "execution_count": 64,
   "metadata": {},
   "outputs": [
    {
     "name": "stdout",
     "output_type": "stream",
     "text": [
      "Soy un Cocodrilo, tengo color Gris y vivo en Africa\n"
     ]
    }
   ],
   "source": [
    "Reptil1=Reptiles(\"Cocodrilo\",\"Gris\",4,\"Africa\")\n",
    "Reptil1.Lugar()"
   ]
  }
 ],
 "metadata": {
  "kernelspec": {
   "display_name": "Python 3",
   "language": "python",
   "name": "python3"
  },
  "language_info": {
   "codemirror_mode": {
    "name": "ipython",
    "version": 3
   },
   "file_extension": ".py",
   "mimetype": "text/x-python",
   "name": "python",
   "nbconvert_exporter": "python",
   "pygments_lexer": "ipython3",
   "version": "3.13.1"
  }
 },
 "nbformat": 4,
 "nbformat_minor": 2
}
